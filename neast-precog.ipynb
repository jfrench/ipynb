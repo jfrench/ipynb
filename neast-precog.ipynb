{
  "cells": [
    {
      "cell_type": "markdown",
      "metadata": {},
      "source": [
        "# Application to Northeastern United States data\n",
        "\n",
        "Joshua P. French and Mohammad Meysami\n",
        "\n",
        "This notebook reproduces the “Application to Northeastern United States data” analysis of Meysami, French, and Lipner (2023+) presented in *Prefiltered Component-based Greedy (PreCoG) Scan Method*.\n",
        "\n",
        "To open this information in an interactive Colab notebook, click the Open in Colab graphic below.\n",
        "\n",
        "<a href=\"https://colab.research.google.com/github/jfrench/ipynb/blob/master/neast-precog.ipynb\"> <img src=\"https://colab.research.google.com/assets/colab-badge.svg\"> </a>\n",
        "\n",
        "# Setup\n",
        "\n",
        "We first set the random number seed to ensure reproducibility."
      ],
      "id": "3ab16848-cff7-4e9f-90a0-0c7bb960c674"
    },
    {
      "cell_type": "code",
      "execution_count": 1,
      "metadata": {},
      "outputs": [],
      "source": [
        "set.seed(112) #ensure reproducibility"
      ],
      "id": "da920fe1"
    },
    {
      "cell_type": "markdown",
      "metadata": {},
      "source": [
        "We require both the **smerc** and **sf** packages to perform this analysis, so we install and attach those packages as necessary."
      ],
      "id": "6d634e4f-b922-411b-b6b4-8bf54e9e3852"
    },
    {
      "cell_type": "code",
      "execution_count": 2,
      "metadata": {},
      "outputs": [],
      "source": [
        "if (!require(\"smerc\")) {\n",
        "  install.packages(\"smerc\", repos = \"https://cran.rstudio.com/\")\n",
        "  library(smerc)\n",
        "}"
      ],
      "id": "620c2e82"
    },
    {
      "cell_type": "code",
      "execution_count": 3,
      "metadata": {},
      "outputs": [],
      "source": [
        "if (!require(\"sf\")) {\n",
        "  system('sudo add-apt-repository ppa:ubuntugis/ubuntugis-unstable')\n",
        "  system('sudo apt-get update')\n",
        "  system('sudo apt-get install libudunits2-dev libgdal-dev libgeos-dev libproj-dev')\n",
        "  install.packages(\"sf\", repos = \"https://cran.rstudio.com/\")\n",
        "  library(sf)\n",
        "}"
      ],
      "id": "465b7e98"
    },
    {
      "cell_type": "markdown",
      "metadata": {},
      "source": [
        "We now load the data sets from the **smerc** package that we will need for the analysis.\n",
        "\n",
        "The `neast` data set is a an `sf` object containing data related to breast cancer mortality in the Northeastern United States. The data include several variables observed for 245 counties (or similar) as well polygon information defined using longitude/latitude coordinates in the WGS84 coordinate system. The following variables are included in the object:\n",
        "\n",
        "-   `id`: A name-based id for each county.\n",
        "-   `cases`: The number of breast cancer mortality cases between 1988-1992.\n",
        "-   `population`: The number of residents in the county based on 1990 U.S. census results.\n",
        "-   `x`: An x coordinate of a centroid associated with each county provided by Kulldorff et al. (2003). See Details.\n",
        "-   `y`: A y coordinate of a centroid associated with each county provided by Kulldorff et al. (2003). See Details.\n",
        "\n",
        "The `neastw` data set is a binary adjacency matrix indicating which regions share a border."
      ],
      "id": "35f2fed3-3741-47d2-9018-f988e9ef3880"
    },
    {
      "cell_type": "code",
      "execution_count": 4,
      "metadata": {},
      "outputs": [],
      "source": [
        "data(\"neast\")\n",
        "data(\"neastw\")"
      ],
      "id": "e4455aeb"
    },
    {
      "cell_type": "markdown",
      "metadata": {},
      "source": [
        "We create a choropleth map of the `cases` variable using the code below."
      ],
      "id": "45c0725e-9b1f-4310-9286-0924c0ce2f7d"
    },
    {
      "cell_type": "code",
      "execution_count": 5,
      "metadata": {},
      "outputs": [],
      "source": [
        "plot(neast[\"cases\"])"
      ],
      "id": "d1303d27"
    },
    {
      "cell_type": "markdown",
      "metadata": {},
      "source": [
        "Lastly, we set certain arguments to make the subsequent analysis easier.\n",
        "\n",
        "We create a matrix, `coords`, of the centroid coordinates for the regions in the study area."
      ],
      "id": "e2cad6c1-b006-4bf6-9d00-d1b72a21566d"
    },
    {
      "cell_type": "code",
      "execution_count": 6,
      "metadata": {},
      "outputs": [],
      "source": [
        "coords <-  neast[, c(\"x\", \"y\"), drop = TRUE]"
      ],
      "id": "2ed6f50b"
    },
    {
      "cell_type": "markdown",
      "metadata": {},
      "source": [
        "We also create `pop` and `cases` objects from the correspondindg variable in the `neast` object to simplify argument passing in the analysis below."
      ],
      "id": "cb042a2c-ccb0-4943-9ae0-3164a1bc8b41"
    },
    {
      "cell_type": "code",
      "execution_count": 7,
      "metadata": {},
      "outputs": [],
      "source": [
        "pop <- neast$population\n",
        "cases <- neast$cases"
      ],
      "id": "9c957680"
    },
    {
      "cell_type": "markdown",
      "metadata": {},
      "source": [
        "# Method applications\n",
        "\n",
        "We apply the following scan methods to the `neast` data below.\n",
        "\n",
        "-   The PreCoG scan method (French, Meysami, and Lipner, 2023+)\n",
        "-   The circular scan method (Kulldorff and Nagarwalla, 1995; Kulldorff, 1997).\n",
        "-   The elliptic scan method (Kulldorff et al., 2006).\n",
        "\n",
        "1.  \n",
        "\n",
        "-   The flexibly-shaped (flex15) scan method (Tango and Takahashi, 2005).\n",
        "-   The restricted flexible (rflex) scan method (Tango and Takhashi, 2012).\n",
        "-   The double connection (dc) scan method (Costa et al., 2012).\n",
        "-   The fast subset scan method (Neill, 2012).\n",
        "-   The upper level set (ULS) scan method (Patil and Taillie, 2012). The p-values are for each method are computed using `999` simulated data sets under the constant risk hypothesis.\n",
        "\n",
        "We apply the PreCoG scan method below."
      ],
      "id": "55a56e44-dde1-4843-b894-d7ef016e2a72"
    },
    {
      "cell_type": "code",
      "execution_count": 8,
      "metadata": {},
      "outputs": [],
      "source": [
        "out1 <- precog.test(coords = coords, cases = cases,\n",
        "                    pop = pop, w = neastw, nsim = 999)"
      ],
      "id": "a8d0ed12"
    },
    {
      "cell_type": "markdown",
      "metadata": {},
      "source": [
        "We apply the circular scan method below."
      ],
      "id": "4b2a1bbf-5168-49b4-95b5-c378e592c22f"
    },
    {
      "cell_type": "code",
      "execution_count": 9,
      "metadata": {},
      "outputs": [],
      "source": [
        "out2 <- scan.test(coords = coords, cases = cases,\n",
        "                  pop = pop, nsim = 999)"
      ],
      "id": "a76ce2d4"
    },
    {
      "cell_type": "markdown",
      "metadata": {},
      "source": [
        "We apply the elliptic scan method with eccentricity penalty of 0 below."
      ],
      "id": "c2691ba0-886a-4977-8354-af24c3a144b3"
    },
    {
      "cell_type": "code",
      "execution_count": 10,
      "metadata": {},
      "outputs": [],
      "source": [
        "out3 <- elliptic.test(coords = coords, cases = cases,\n",
        "                      pop = pop, nsim = 99, a = 0)"
      ],
      "id": "cfb6a9a2"
    },
    {
      "cell_type": "markdown",
      "metadata": {},
      "source": [
        "We apply the flexible scan method with candidate zones having up to $K=15$ regions below."
      ],
      "id": "85664d4a-a913-40f9-8b26-d610349628cf"
    },
    {
      "cell_type": "code",
      "execution_count": 11,
      "metadata": {},
      "outputs": [],
      "source": [
        "out4 <- flex_test(coords = coords, cases = cases, pop = pop,\n",
        "                  w = neastw, k = 15, nsim = 999)"
      ],
      "id": "7f90a499"
    },
    {
      "cell_type": "markdown",
      "metadata": {},
      "source": [
        "We apply the restricted flexible scan method below with candidate zones having up to $K=50$ regions and filtering the regions based on whether the middle p-value is less than $\\alpha_1 = 0.20$."
      ],
      "id": "3667fa1a-0335-4fb5-b7f6-6f00275c6d0f"
    },
    {
      "cell_type": "code",
      "execution_count": 12,
      "metadata": {},
      "outputs": [],
      "source": [
        "out5 <- rflex.test(coords = coords, cases = cases,\n",
        "                   pop = pop, w= neastw, k = 50, nsim = 999)"
      ],
      "id": "fb60f214"
    },
    {
      "cell_type": "markdown",
      "metadata": {},
      "source": [
        "We apply the double connection scan method below."
      ],
      "id": "b9200335-31b4-448d-819a-6c4b8eb4602d"
    },
    {
      "cell_type": "code",
      "execution_count": 13,
      "metadata": {},
      "outputs": [],
      "source": [
        "out6 <- dc.test(coords = coords, cases = cases, pop = pop,\n",
        "                w = neastw, nsim = 999)"
      ],
      "id": "70f52f1c"
    },
    {
      "cell_type": "markdown",
      "metadata": {},
      "source": [
        "We apply the fast scan method below."
      ],
      "id": "0399e3f3-154a-49f1-8dec-958988e61818"
    },
    {
      "cell_type": "code",
      "execution_count": 14,
      "metadata": {},
      "outputs": [],
      "source": [
        "out7 <- fast.test(coords = coords, cases = cases, pop = pop,\n",
        "                  nsim = 999)"
      ],
      "id": "4cd0f7c6"
    },
    {
      "cell_type": "markdown",
      "metadata": {},
      "source": [
        "We apply the ULS scan method below."
      ],
      "id": "a82a9afe-7cda-4d60-addb-0431078b900e"
    },
    {
      "cell_type": "code",
      "execution_count": 15,
      "metadata": {},
      "outputs": [],
      "source": [
        "out8 <- uls.test(coords = coords, cases = cases, pop = pop,\n",
        "                 w = neastw, nsim = 999)"
      ],
      "id": "f69433aa"
    },
    {
      "cell_type": "markdown",
      "metadata": {},
      "source": [
        "# Plotting the results\n",
        "\n",
        "We begin by setting up the color palette and set the plotting patterns for each method."
      ],
      "id": "aa1f1594-89f0-46cf-a8f6-486b2eb7aea4"
    },
    {
      "cell_type": "code",
      "execution_count": 16,
      "metadata": {},
      "outputs": [],
      "source": [
        "# color palette\n",
        "col_pal <-  c(\"#1B9E77\", \"#D95F02\", \"#7570B3\", \"#E7298A\",\n",
        "              \"#66A61E\", \"#E6AB02\", \"#A6761D\", \"#666666\",\n",
        "              \"#1B9E77\", \"#D95F02\", \"#7570B3\", \"#E7298A\",\n",
        "              \"#66A61E\", \"#E6AB02\", \"#A6761D\", \"#666666\")\n",
        "# number of detected clusters\n",
        "nc1 <- nclusters(out1)\n",
        "# color clusters for out1\n",
        "col1 <- color.clusters(out1, col = col_pal[seq_len(nc1)])\n",
        "nc2 <- nclusters(out2)\n",
        "col2 <- color.clusters(out2, col = col_pal[seq_len(nc2)])\n",
        "nc3 <- nclusters(out3)\n",
        "col3 <- color.clusters(out3, col = col_pal[seq_len(nc3)])\n",
        "nc4 <- nclusters(out4)\n",
        "col4 <- color.clusters(out4, col = col_pal[seq_len(nc4)])\n",
        "nc5 <- nclusters(out5)\n",
        "col5 <- color.clusters(out5, col = col_pal[seq_len(nc5)])\n",
        "nc6 <- nclusters(out6)\n",
        "col6 <- color.clusters(out6, col = col_pal[seq_len(nc6)])\n",
        "nc7 <- nclusters(out7)\n",
        "col7 <- color.clusters(out7, col = col_pal[seq_len(nc7)])\n",
        "nc8 <- nclusters(out8)\n",
        "col8 <- color.clusters(out8, col = col_pal[seq_len(nc8)])"
      ],
      "id": "13ca154d"
    },
    {
      "cell_type": "markdown",
      "metadata": {},
      "source": [
        "We now construct the plot associated with each method. The title indicates the methods for which the results are being plotted."
      ],
      "id": "1208c200-5496-48e1-adca-f2dff1b73dfc"
    },
    {
      "cell_type": "code",
      "execution_count": 17,
      "metadata": {},
      "outputs": [],
      "source": [
        "plot(st_geometry(neast), col = col1)\n",
        "title(\"PreCoG\")"
      ],
      "id": "00d3619f"
    },
    {
      "cell_type": "code",
      "execution_count": 18,
      "metadata": {},
      "outputs": [],
      "source": [
        "plot(st_geometry(neast), col = col2)\n",
        "title(\"circular\")"
      ],
      "id": "7429bb18"
    },
    {
      "cell_type": "code",
      "execution_count": 19,
      "metadata": {},
      "outputs": [],
      "source": [
        "plot(st_geometry(neast), col = col3)\n",
        "title(\"elliptic\")"
      ],
      "id": "ef64eeb7"
    },
    {
      "cell_type": "code",
      "execution_count": 20,
      "metadata": {},
      "outputs": [],
      "source": [
        "plot(st_geometry(neast), col = col4)\n",
        "title(\"flex15\")"
      ],
      "id": "b7cc6feb"
    },
    {
      "cell_type": "code",
      "execution_count": 21,
      "metadata": {},
      "outputs": [],
      "source": [
        "plot(st_geometry(neast), col = col5)\n",
        "title(\"rflex\")"
      ],
      "id": "c8a29f15"
    },
    {
      "cell_type": "code",
      "execution_count": 22,
      "metadata": {},
      "outputs": [],
      "source": [
        "plot(st_geometry(neast), col = col6)\n",
        "title(\"dc\")"
      ],
      "id": "4aec83f0"
    },
    {
      "cell_type": "code",
      "execution_count": 23,
      "metadata": {},
      "outputs": [],
      "source": [
        "plot(st_geometry(neast), col = col7)\n",
        "title(\"fast\")"
      ],
      "id": "d845d10e"
    },
    {
      "cell_type": "code",
      "execution_count": 24,
      "metadata": {},
      "outputs": [],
      "source": [
        "plot(st_geometry(neast), col = col8)\n",
        "title(\"uls\")"
      ],
      "id": "69e1e73a"
    },
    {
      "cell_type": "markdown",
      "metadata": {},
      "source": [
        "# Tabular results\n",
        "\n",
        "We now construct a table summarizing the clusters detected by the different methods.\n",
        "\n",
        "We create a helper function to extract the data."
      ],
      "id": "5f4a5f89-ff5b-45b8-8570-3b70b01a9c47"
    },
    {
      "cell_type": "code",
      "execution_count": 25,
      "metadata": {},
      "outputs": [],
      "source": [
        "# function to get relevant data\n",
        "get_table_data <- function(x, method) {\n",
        "  data.frame(\n",
        "    method = method,\n",
        "    cluster = paste(\"cluster\", seq_along(x$clusters)),\n",
        "    pop = sgetElement(x$clusters, \"population\"),\n",
        "    cases = sgetElement(x$clusters, \"cases\"),\n",
        "    ex = round(sgetElement(x$clusters, \"expected\"), 0),\n",
        "    smr = round(sgetElement(x$clusters, \"smr\"), 3),\n",
        "    nregions = sapply(lgetElement(x$clusters, \"locids\"), length),\n",
        "    pvalue = sgetElement(x$clusters, \"pvalue\")\n",
        "  )\n",
        "}"
      ],
      "id": "a260aa56"
    },
    {
      "cell_type": "markdown",
      "metadata": {},
      "source": [
        "We next extract the data and reformat it into a data frame."
      ],
      "id": "368c60e8-3cb2-42bd-b798-468a90eb7800"
    },
    {
      "cell_type": "code",
      "execution_count": 26,
      "metadata": {},
      "outputs": [],
      "source": [
        "table_list <- mapply(get_table_data,\n",
        "                     x = list(out1, out2, out3, out4,\n",
        "                              out5, out6, out7, out8),\n",
        "                     method = c(\"precog\", \"circular\",\n",
        "                                \"elliptic\", \"flex15\",\n",
        "                                \"rflex\", \"dc\", \"fast\",\n",
        "                                \"uls\"),\n",
        "                     SIMPLIFY = FALSE)\n",
        "table_data <- do.call(rbind, table_list)"
      ],
      "id": "946be078"
    },
    {
      "cell_type": "markdown",
      "metadata": {},
      "source": [
        "We now disply the final results."
      ],
      "id": "21a9e88e-1a4c-42eb-ab0e-6a78997efc82"
    },
    {
      "cell_type": "code",
      "execution_count": 27,
      "metadata": {},
      "outputs": [],
      "source": [
        "table_data"
      ],
      "id": "dc725770"
    },
    {
      "cell_type": "markdown",
      "metadata": {},
      "source": [
        "# References\n",
        "\n",
        "Costa, M. A., Assunção, R. M., and Kulldorff, M. (2012). Constrained spanning tree algorithms for irregularlyshaped spatial clustering. Computational Statistics & Data Analysis, 56(6):1771–1783.\n",
        "\n",
        "French, J. P., Meysami, M., Hall, L. M., Weaver, N. E., Nguyen, M. C., and Panter, L. (2022). A comparison of spatial scan methods for cluster detection. Journal of Statistical Computation and Simulation, 92(16):3343– 3372.\n",
        "\n",
        "Kulldorff, M. (1997). A spatial scan statistic. Communications in Statistics-Theory and methods, 26(6):1481– 1496.\n",
        "\n",
        "Kulldorff, M., Huang, L., Pickle, L., and Duczmal, L. (2006). An elliptic spatial scan statistic. Statistics in medicine, 25(22):3929–3943.\n",
        "\n",
        "Kulldorff, M. and Nagarwalla, N. (1995). Spatial disease clusters: detection and inference. Statistics in medicine, 14(8):799–810.\n",
        "\n",
        "Neill, D. B. (2012). Fast subset scan for spatial pattern detection. Journal of the Royal Statistical Society: Series B (Statistical Methodology), 74(2):337–360.\n",
        "\n",
        "French, Joshua P., Meysami, M, and Lipner, Ettie M. (2023+). Prefiltered Component-based Greedy (PreCoG) Scan Method. Submitted.\n",
        "\n",
        "Patil, G. P. and Taillie, C. (2004). Upper level set scan statistic for detecting arbitrarily shaped hotspots. Environmental and Ecological statistics, 11(2):183–197.\n",
        "\n",
        "Tango, T. and Takahashi, K. (2005). A flexibly shaped spatial scan statistic for detecting clusters. International journal of health geographics, 4(1):11.\n",
        "\n",
        "Tango, T. and Takahashi, K. (2012). A flexible spatial scan statistic with a restricted likelihood ratio for detecting disease clusters. Statistics in medicine, 31(30):4207–4218."
      ],
      "id": "dbbd66bd-dadf-4f96-8c01-ffce16166683"
    }
  ],
  "nbformat": 4,
  "nbformat_minor": 5,
  "metadata": {
    "kernelspec": {
      "name": "ir",
      "display_name": "R",
      "language": "R"
    },
    "language_info": {
      "name": "R",
      "codemirror_mode": "r",
      "file_extension": ".r",
      "mimetype": "text/x-r-source",
      "pygments_lexer": "r",
      "version": "4.2.2"
    }
  }
}